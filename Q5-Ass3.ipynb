{
 "cells": [
  {
   "cell_type": "code",
   "execution_count": 1,
   "metadata": {},
   "outputs": [
    {
     "name": "stdout",
     "output_type": "stream",
     "text": [
      "Estimated roof angle: -62.37 degrees\n"
     ]
    }
   ],
   "source": [
    "import cv2 as cv\n",
    "import numpy as np\n",
    "import matplotlib.pyplot as plt\n",
    "\n",
    "img = cv.imread('building_crop.jpg', cv.IMREAD_GRAYSCALE)\n",
    "edges = cv.Canny(img, 350 , 390)\n",
    "indices = np.where(edges != [0])\n",
    "if len(indices) == 0:\n",
    "    print(\"No edges detected in the image\")\n",
    "    exit()\n",
    "    \n",
    "x_list = []\n",
    "y_list = []\n",
    "for i in range(len(indices[1])):\n",
    "    if indices[1][i] not in x_list and indices[0][i] not in y_list:\n",
    "        x_list.append(indices[1][i])\n",
    "        y_list.append(indices[0][i])\n",
    "\n",
    "x = np.array(x_list)\n",
    "y = np.array(y_list)\n",
    "\n",
    "A = np.vstack([x, np.ones(len(x))]).T\n",
    "m, c = np.linalg.lstsq(A, y, rcond=None)[0]\n",
    "\n",
    "angle_degrees = np.arctan(m) * 180 / np.pi\n",
    "\n",
    "print(\"Estimated roof angle: {:.2f} degrees\".format(angle_degrees))"
   ]
  }
 ],
 "metadata": {
  "kernelspec": {
   "display_name": "Python 3",
   "language": "python",
   "name": "python3"
  },
  "language_info": {
   "codemirror_mode": {
    "name": "ipython",
    "version": 3
   },
   "file_extension": ".py",
   "mimetype": "text/x-python",
   "name": "python",
   "nbconvert_exporter": "python",
   "pygments_lexer": "ipython3",
   "version": "3.11.2"
  },
  "orig_nbformat": 4
 },
 "nbformat": 4,
 "nbformat_minor": 2
}
